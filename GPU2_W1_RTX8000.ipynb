{
 "cells": [
  {
   "cell_type": "code",
   "execution_count": 1,
   "metadata": {},
   "outputs": [],
   "source": [
    "import torch\n",
    "import torch.nn as nn\n",
    "import torch.backends.cudnn as cudnn\n",
    "import torch.optim\n",
    "import torch.utils.data\n",
    "import torchvision\n",
    "import torch.nn.functional as F\n",
    "import torch.optim as optim\n",
    "import torchvision.transforms as transforms\n",
    "import torchvision.models as models\n",
    "import time\n",
    "\n",
    "import torch.profiler"
   ]
  },
  {
   "cell_type": "code",
   "execution_count": 2,
   "metadata": {},
   "outputs": [],
   "source": [
    "model = models.resnet101(pretrained=True)\n",
    "model.cuda()\n",
    "cudnn.benchmark = True"
   ]
  },
  {
   "cell_type": "code",
   "execution_count": 3,
   "metadata": {},
   "outputs": [
    {
     "name": "stdout",
     "output_type": "stream",
     "text": [
      "2\n"
     ]
    }
   ],
   "source": [
    "num_of_gpus = torch.cuda.device_count()\n",
    "print(num_of_gpus)"
   ]
  },
  {
   "cell_type": "code",
   "execution_count": 4,
   "metadata": {},
   "outputs": [],
   "source": [
    "device = torch.device(\"cuda:0\")"
   ]
  },
  {
   "cell_type": "code",
   "execution_count": 5,
   "metadata": {},
   "outputs": [],
   "source": [
    "def get_data(batch_size):\n",
    "\n",
    "    transform = transforms.Compose(\n",
    "        [transforms.ToTensor(),\n",
    "         transforms.RandomCrop((32,32), padding=4),\n",
    "         transforms.RandomHorizontalFlip(p=0.5),\n",
    "         transforms.Normalize((0.4914, 0.4822, 0.4465), (0.2023, 0.1994,0.2010))])\n",
    "\n",
    "    trainset = torchvision.datasets.CIFAR10(root='./data', train=True,\n",
    "                                            download=True, transform=transform)\n",
    "    trainloader = torch.utils.data.DataLoader(trainset, batch_size=batch_size,\n",
    "                                              shuffle=True, num_workers=1)\n",
    "    \n",
    "    return trainloader"
   ]
  },
  {
   "cell_type": "code",
   "execution_count": 6,
   "metadata": {},
   "outputs": [],
   "source": [
    "def train(net, trainloader):\n",
    "    \n",
    "    losses = []\n",
    "    \n",
    "    optimizer = optim.SGD(net.parameters(), lr=0.1, momentum=0.9, dampening=0, weight_decay=5e-4)\n",
    "    criterion = nn.CrossEntropyLoss()\n",
    "    \n",
    "    net.train()\n",
    "    \n",
    "    for epoch in range(1): \n",
    "        \n",
    "        start = time.time()\n",
    "\n",
    "        running_loss = 0.0\n",
    "        \n",
    "        with torch.profiler.profile(\n",
    "    activities=[\n",
    "        torch.profiler.ProfilerActivity.CPU,\n",
    "        torch.profiler.ProfilerActivity.CUDA],\n",
    "    schedule=torch.profiler.schedule(\n",
    "        wait=1,\n",
    "        warmup=1,\n",
    "        active=2),\n",
    "    on_trace_ready=torch.profiler.tensorboard_trace_handler('./result_gpu2_w1_rtx8000'),\n",
    "    record_shapes=True,\n",
    "    profile_memory=True,  # This will take 1 to 2 minutes. Setting it to False could greatly speedup.\n",
    "    with_stack=False\n",
    ") as p:\n",
    "        \n",
    "            for i, data in enumerate(trainloader, 0):\n",
    "\n",
    "                inputs, labels = data[0].to(device), data[1].to(device)\n",
    "\n",
    "                optimizer.zero_grad()\n",
    "\n",
    "                outputs = net(inputs)\n",
    "                loss = criterion(outputs, labels)\n",
    "                loss.backward()\n",
    "                optimizer.step()\n",
    "\n",
    "                running_loss += loss.item()\n",
    "                \n",
    "                p.step()\n",
    "\n",
    "        print('Epoch {} : Loss : {}'.format(str(epoch+1),str(running_loss/(i+1))))\n",
    "\n",
    "        losses.append(running_loss/(i+1))\n",
    "        \n",
    "    end = time.time()\n",
    "    compute_time = end - start\n",
    "    print('Finished Training')\n",
    "    \n",
    "    return compute_time"
   ]
  },
  {
   "cell_type": "code",
   "execution_count": 7,
   "metadata": {},
   "outputs": [],
   "source": [
    "if device.type == 'cuda':\n",
    "    model = torch.nn.DataParallel(model) # make parallel\n",
    "    cudnn.benchmark = True"
   ]
  },
  {
   "cell_type": "code",
   "execution_count": 8,
   "metadata": {},
   "outputs": [
    {
     "name": "stdout",
     "output_type": "stream",
     "text": [
      "Files already downloaded and verified\n",
      "Epoch 1 : Loss : 2.7167921471778693\n",
      "Finished Training\n",
      "\n",
      "\n",
      "Compute Time : 482.570369720459\n",
      " Total Time : 485.54662823677063\n"
     ]
    }
   ],
   "source": [
    "start = time.time()\n",
    "trainloader = get_data(128)\n",
    "dataload_time = time.time() - start\n",
    "compute_time = train(model, trainloader)\n",
    "total_time = dataload_time + compute_time\n",
    "print(\"\\n\\nCompute Time : {}\\n Total Time : {}\".format(compute_time,total_time))"
   ]
  },
  {
   "cell_type": "code",
   "execution_count": null,
   "metadata": {},
   "outputs": [],
   "source": []
  }
 ],
 "metadata": {
  "kernelspec": {
   "display_name": "Python 3",
   "language": "python",
   "name": "python3"
  },
  "language_info": {
   "codemirror_mode": {
    "name": "ipython",
    "version": 3
   },
   "file_extension": ".py",
   "mimetype": "text/x-python",
   "name": "python",
   "nbconvert_exporter": "python",
   "pygments_lexer": "ipython3",
   "version": "3.8.6"
  }
 },
 "nbformat": 4,
 "nbformat_minor": 4
}
